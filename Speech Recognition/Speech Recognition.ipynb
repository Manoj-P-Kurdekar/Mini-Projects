{
 "cells": [
  {
   "cell_type": "code",
   "execution_count": 1,
   "id": "91b8b2fc",
   "metadata": {},
   "outputs": [],
   "source": [
    "import speech_recognition as sr\n",
    "from IPython.display import Audio"
   ]
  },
  {
   "cell_type": "code",
   "execution_count": 3,
   "id": "98933a3a",
   "metadata": {},
   "outputs": [
    {
     "name": "stdout",
     "output_type": "stream",
     "text": [
      "Transcription:\n",
      "they still smell of old buildings it takes he to bring out the order I call Deep research help in just a solved paper please find with him because my favourite is just for food is be hard cross bun\n"
     ]
    }
   ],
   "source": [
    "#Create a recognition instance\n",
    "r = sr.Recognizer()\n",
    "\n",
    "#Specify the path to the uploaded audio file\n",
    "audio_path = r\"C:\\Users\\manoj\\OneDrive - Zoro\\Desktop\\Project\\Mini Project\\Speech Recognition\\harvard.wav\"\n",
    "\n",
    "#Load the audio file\n",
    "with sr.AudioFile(audio_path) as source:\n",
    "  audio = r.record(source)\n",
    "\n",
    "#transcribe the audio\n",
    "text = r.recognize_google(audio)\n",
    "\n",
    "#print the transcriptions \n",
    "print(\"Transcription:\")\n",
    "print(text)"
   ]
  },
  {
   "cell_type": "code",
   "execution_count": null,
   "id": "6a3070c1",
   "metadata": {},
   "outputs": [],
   "source": []
  }
 ],
 "metadata": {
  "kernelspec": {
   "display_name": "Python 3 (ipykernel)",
   "language": "python",
   "name": "python3"
  },
  "language_info": {
   "codemirror_mode": {
    "name": "ipython",
    "version": 3
   },
   "file_extension": ".py",
   "mimetype": "text/x-python",
   "name": "python",
   "nbconvert_exporter": "python",
   "pygments_lexer": "ipython3",
   "version": "3.11.4"
  }
 },
 "nbformat": 4,
 "nbformat_minor": 5
}
